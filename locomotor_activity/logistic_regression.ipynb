{
 "cells": [
  {
   "cell_type": "code",
   "execution_count": 1,
   "id": "initial-drilling",
   "metadata": {},
   "outputs": [],
   "source": [
    "from sys import call_tracing\n",
    "import pandas as pd\n",
    "import numpy as np\n",
    "from matplotlib import pyplot as plt\n",
    "from sklearn.decomposition import PCA, FactorAnalysis, FastICA\n",
    "from sklearn.preprocessing import StandardScaler\n",
    "from sklearn.manifold import MDS, SpectralEmbedding, TSNE, Isomap\n",
    "from sklearn.discriminant_analysis import LinearDiscriminantAnalysis as LDA\n",
    "from sklearn.cluster import OPTICS, DBSCAN, KMeans\n",
    "from sklearn.metrics import pairwise_distances\n",
    "import umap\n",
    "import mpl_toolkits.mplot3d.axes3d as p3\n",
    "import os"
   ]
  },
  {
   "cell_type": "code",
   "execution_count": 2,
   "id": "divided-street",
   "metadata": {},
   "outputs": [],
   "source": [
    "win_size = 10\n",
    "use_log = True\n",
    "use_std = True\n",
    "# ignore the first day\n",
    "ignored = 1440\n",
    "\n",
    "# group_func = 'mean'\n",
    "group_func = 'mean_and_median'\n",
    "\n",
    "# umap n_neighbors argument\n",
    "nn = 50\n",
    "\n",
    "reducers = {\n",
    "    'pca': PCA(n_components=3),\n",
    "    # 'umap': umap.UMAP(n_components=3, metric='cosine', n_neighbors=5, random_state=5566),\n",
    "    'umap': umap.UMAP(n_components=3, metric='cosine', n_neighbors=nn, random_state=5566),\n",
    "    # 'umap': umap.UMAP(n_components=3, n_neighbors=15, random_state=5566),\n",
    "}"
   ]
  },
  {
   "cell_type": "code",
   "execution_count": 3,
   "id": "radio-anniversary",
   "metadata": {},
   "outputs": [],
   "source": [
    "conv_size = 3\n",
    "txts = [f for f in os.listdir('./aligned') if f.endswith('.txt')]\n",
    "monitor_cleaned_smooths = []\n",
    "act_digests = []\n",
    "act_origs = []\n",
    "metas = []\n",
    "\n",
    "meta2 = pd.read_csv('./meta/meta2.csv', sep='\\t')\n",
    "#one_meta2_test = pd.read_csv('./meta/one_meta2_test.csv', sep='\\t')\n",
    "for txt in txts:\n",
    "\n",
    "    # try:\n",
    "    #     meta = pd.read_csv('./meta/%s' % txt, sep='\\t')\n",
    "    # except:\n",
    "    #     continue\n",
    "\n",
    "    #meta = one_meta2_test[one_meta2_test.File_Name == os.path.splitext(txt)[0]]\n",
    "    meta = meta2[meta2.File_Name == os.path.splitext(txt)[0]]\n",
    "    if len(meta) == 0:\n",
    "        print(txt)\n",
    "        continue\n",
    "\n",
    "    monitor = pd.read_csv('./aligned/%s' % txt, sep='\\t', header=None)\n",
    "    monitor = monitor.rename({1:'date', 2:'time'}, axis=1)\n",
    "    monitor_cleaned = pd.concat([monitor.iloc[:,1:3], monitor.iloc[:,10:]], axis=1)\n",
    "    monitor_cleaned = monitor_cleaned.iloc[ignored:,:]\n",
    "    \n",
    "    #### light dark filter implementation\n",
    "    #hms = np.array([t.replace(' ', ':').split(':') for t in monitor_cleaned.time], dtype=int)\n",
    "    #monitor_cleaned['h'] = hms[:,0]\n",
    "    \n",
    "    # light\n",
    "    #monitor_cleaned = monitor_cleaned[(monitor_cleaned.h >= 5) & (monitor_cleaned.h <= 19)].iloc[:,:-1]\n",
    "    \n",
    "    # dark \n",
    "    #monitor_cleaned = monitor_cleaned[(monitor_cleaned.h <= 5) | (monitor_cleaned.h >= 19)].iloc[:,:-1]\n",
    "    ####\n",
    "    \n",
    "    # monitor_cleaned_smooth = monitor_cleaned.iloc[:,2:].apply(np.convolve, v=np.array([1,1,1,1,1]), mode='valid')\n",
    "    monitor_cleaned_smooth = monitor_cleaned.iloc[:,2:].apply(np.convolve, v=np.ones(conv_size), mode='valid')\n",
    "    \n",
    "    if use_log:\n",
    "        monitor_cleaned_smooth = np.log(monitor_cleaned_smooth + 1)\n",
    "\n",
    "    monitor_cleaned_smooth = pd.concat([monitor_cleaned.iloc[(conv_size-1):,:2].reset_index(drop=True), monitor_cleaned_smooth], axis=1)\n",
    "\n",
    "    hms = np.array([t.replace(' ', ':').split(':') for t in monitor_cleaned_smooth.time], dtype=int)\n",
    "    monitor_cleaned_smooth['h'] = hms[:,0]\n",
    "    monitor_cleaned_smooth['mNcell'] = hms[:,1] // win_size\n",
    "    #monitor_cleaned_smooth = monitor_cleaned_smooth[monitor_cleaned_smooth.h.isin([18,19,20,21,22,23,0,1,2,3,4,5])]\n",
    "    #monitor_cleaned_smooth['m'] = hms[:,1]\n",
    "    \n",
    "    if group_func == 'mean':\n",
    "        act_digest = pd.concat([monitor_cleaned_smooth.groupby(['h', 'mNcell']).mean().T, monitor_cleaned_smooth.groupby(['h', 'mNcell']).std().T], axis=1)\n",
    "    else:\n",
    "        # act_digest = pd.concat([monitor_cleaned_smooth.groupby(['h', 'mNcell']).median().T, monitor_cleaned_smooth.groupby(['h', 'mNcell']).std().T], axis=1)\n",
    "        q1 = monitor_cleaned_smooth.groupby(['h', 'mNcell']).apply(pd.DataFrame.quantile, q=.25).T.iloc[:-2]\n",
    "        q3 = monitor_cleaned_smooth.groupby(['h', 'mNcell']).apply(pd.DataFrame.quantile, q=.75).T.iloc[:-2]\n",
    "\n",
    "        monitor_cleaned_smooth_min = monitor_cleaned_smooth.groupby(['h', 'mNcell']).min().T.iloc[2:]\n",
    "        monitor_cleaned_smooth_max = monitor_cleaned_smooth.groupby(['h', 'mNcell']).max().T.iloc[2:]\n",
    "        IQR = q3 - q1\n",
    "        monitor_cleaned_smooth_whisker_min = q1 - 1.5 * IQR\n",
    "        monitor_cleaned_smooth_whisker_max = q3 + 1.5 * IQR\n",
    "        \n",
    "        whisker_min_oob = (monitor_cleaned_smooth_whisker_min < monitor_cleaned_smooth_min)\n",
    "        whisker_max_oob = (monitor_cleaned_smooth_whisker_max > monitor_cleaned_smooth_max)\n",
    "        monitor_cleaned_smooth_whisker_min[whisker_min_oob] = monitor_cleaned_smooth_min[whisker_min_oob]\n",
    "        monitor_cleaned_smooth_whisker_max[whisker_max_oob] = monitor_cleaned_smooth_max[whisker_max_oob]\n",
    "        \n",
    "        act_digest = pd.concat([\n",
    "            monitor_cleaned_smooth.groupby(['h', 'mNcell']).mean().T, \n",
    "            monitor_cleaned_smooth.groupby(['h', 'mNcell']).std().T,\n",
    "            monitor_cleaned_smooth.groupby(['h', 'mNcell']).median().T, \n",
    "            q1,\n",
    "            q3,\n",
    "            monitor_cleaned_smooth_whisker_min,\n",
    "            monitor_cleaned_smooth_whisker_max,\n",
    "            ], axis=1)\n",
    "    \n",
    "    act_orig = monitor_cleaned_smooth.iloc[:,2:34].T\n",
    "    #act_digest = monitor_cleaned_smooth.groupby(['h', 'mNcell']).mean().T / monitor_cleaned_smooth.groupby(['h', 'mNcell']).std().T\n",
    "    #act_digest = monitor_cleaned_smooth.groupby(['h', 'mNcell']).mean().T\n",
    "    act_digests.append(act_digest)\n",
    "    act_origs.append(act_orig)\n",
    "\n",
    "    metas.append(meta)\n",
    "    monitor_cleaned_smooths.append(monitor_cleaned_smooth)\n",
    "\n",
    "meta_union = pd.concat(metas).reset_index(drop=True)\n",
    "np.sum(meta_union.Instar.isna())\n",
    "act_digests_npy = np.concatenate(act_digests)\n",
    "act_origs_npy = np.concatenate(act_origs)\n",
    "monitor_cleaned_smooths_union = pd.concat(monitor_cleaned_smooths).reset_index(drop=True)"
   ]
  },
  {
   "cell_type": "code",
   "execution_count": 4,
   "id": "soviet-officer",
   "metadata": {},
   "outputs": [],
   "source": [
    "# filter out BF\n",
    "filter_no_bf = (meta_union['Source'] == 'MF') | (meta_union['Source'] == 'WL') | (meta_union['Source'] == 'OK') | (meta_union['Source'] == 'SC')\n",
    "meta_filter = meta_union[filter_no_bf]\n",
    "act_filter = act_digests_npy[filter_no_bf]\n",
    "#act_filter.shape"
   ]
  },
  {
   "cell_type": "code",
   "execution_count": 131,
   "id": "monthly-publisher",
   "metadata": {},
   "outputs": [
    {
     "data": {
      "text/plain": [
       "array([0., 1.])"
      ]
     },
     "execution_count": 131,
     "metadata": {},
     "output_type": "execute_result"
    }
   ],
   "source": [
    "np.unique(meta_filter.phen_idx, return_inverse=True)"
   ]
  },
  {
   "cell_type": "code",
   "execution_count": 5,
   "id": "unsigned-platform",
   "metadata": {},
   "outputs": [],
   "source": [
    "def stdscaler (X, use_std=True):\n",
    "    if use_std:\n",
    "        return StandardScaler().fit_transform(X)\n",
    "    else:\n",
    "        return X"
   ]
  },
  {
   "cell_type": "code",
   "execution_count": 6,
   "id": "norwegian-quantum",
   "metadata": {},
   "outputs": [
    {
     "data": {
      "text/plain": [
       "(296, 296)"
      ]
     },
     "execution_count": 6,
     "metadata": {},
     "output_type": "execute_result"
    }
   ],
   "source": [
    "reducer = umap.UMAP(n_components=3, metric='cosine', n_neighbors=15, random_state=5566)\n",
    "#reducer = PCA(n_components=3, random_state=5566)\n",
    "\n",
    "act_filter_transformed = stdscaler(act_filter, use_std)\n",
    "dr = reducer.fit_transform(act_filter_transformed)\n",
    "act_filter_transformed.shape\n",
    "dr.shape\n",
    "# reducer.fit(act_digests_npy_transformed)\n",
    "# reducer.transform(act_digests_npy_transformed)\n",
    "pwdists = pairwise_distances(dr)\n",
    "\n",
    "pwdists.shape"
   ]
  },
  {
   "cell_type": "markdown",
   "id": "vocal-assembly",
   "metadata": {},
   "source": [
    "### Logistic Regression"
   ]
  },
  {
   "cell_type": "code",
   "execution_count": 7,
   "id": "plastic-relaxation",
   "metadata": {},
   "outputs": [],
   "source": [
    "# Importing packages\n",
    "\n",
    "import pandas as pd # data processing\n",
    "import numpy as np # working with arrays\n",
    "import itertools # construct specialized tools\n",
    "import matplotlib.pyplot as plt # visualizations\n",
    "from matplotlib import rcParams # plot size customization\n",
    "from sklearn.model_selection import train_test_split # splitting the data\n",
    "from sklearn.linear_model import LogisticRegression # model algorithm\n",
    "from sklearn.preprocessing import StandardScaler # data normalization\n",
    "from sklearn.metrics import jaccard_score as jss # evaluation metric\n",
    "from sklearn.metrics import precision_score # evaluation metric\n",
    "from sklearn.metrics import classification_report # evaluation metric\n",
    "from sklearn.metrics import confusion_matrix # evaluation metric\n",
    "from sklearn.metrics import log_loss # evaluation metric"
   ]
  },
  {
   "cell_type": "code",
   "execution_count": 8,
   "id": "emotional-subdivision",
   "metadata": {},
   "outputs": [],
   "source": [
    "from sklearn.ensemble import RandomForestClassifier\n",
    "from sklearn.tree import DecisionTreeClassifier\n",
    "from sklearn.model_selection import train_test_split, GridSearchCV\n",
    "from sklearn.preprocessing import OneHotEncoder\n",
    "from sklearn.metrics import accuracy_score\n",
    "from sklearn.svm import SVC\n",
    "from sklearn.linear_model import LogisticRegression"
   ]
  },
  {
   "cell_type": "code",
   "execution_count": 94,
   "id": "russian-makeup",
   "metadata": {},
   "outputs": [
    {
     "data": {
      "text/plain": [
       "(296, 1008)"
      ]
     },
     "execution_count": 94,
     "metadata": {},
     "output_type": "execute_result"
    }
   ],
   "source": [
    "act_filter_transformed.shape"
   ]
  },
  {
   "cell_type": "code",
   "execution_count": 9,
   "id": "facial-construction",
   "metadata": {},
   "outputs": [],
   "source": [
    "rfc = RandomForestClassifier(random_state=5566, max_depth=5, n_estimators=200, criterion='gini')"
   ]
  },
  {
   "cell_type": "code",
   "execution_count": 12,
   "id": "vertical-mathematics",
   "metadata": {},
   "outputs": [],
   "source": [
    "X = np.asarray(act_filter_transformed)\n",
    "y = np.asarray(meta_filter['phen_idx'])"
   ]
  },
  {
   "cell_type": "code",
   "execution_count": 13,
   "id": "seasonal-phase",
   "metadata": {},
   "outputs": [
    {
     "data": {
      "text/plain": [
       "0.0    272\n",
       "1.0     24\n",
       "Name: phen_idx, dtype: int64"
      ]
     },
     "execution_count": 13,
     "metadata": {},
     "output_type": "execute_result"
    }
   ],
   "source": [
    "meta_filter['phen_idx'].value_counts()"
   ]
  },
  {
   "cell_type": "code",
   "execution_count": 16,
   "id": "certain-round",
   "metadata": {},
   "outputs": [],
   "source": [
    "X = StandardScaler().fit(X).transform(X)"
   ]
  },
  {
   "cell_type": "code",
   "execution_count": 17,
   "id": "referenced-tactics",
   "metadata": {},
   "outputs": [],
   "source": [
    "X_train, X_test, y_train, y_test = train_test_split(X, y, test_size = 0.5, random_state = 5566)"
   ]
  },
  {
   "cell_type": "code",
   "execution_count": 18,
   "id": "twelve-organ",
   "metadata": {},
   "outputs": [
    {
     "data": {
      "text/plain": [
       "RandomForestClassifier(max_depth=5, n_estimators=200, random_state=5566)"
      ]
     },
     "execution_count": 18,
     "metadata": {},
     "output_type": "execute_result"
    }
   ],
   "source": [
    "rfc.fit(X_train, y_train)"
   ]
  },
  {
   "cell_type": "code",
   "execution_count": 19,
   "id": "sensitive-innocent",
   "metadata": {},
   "outputs": [
    {
     "data": {
      "text/plain": [
       "0.918918918918919"
      ]
     },
     "execution_count": 19,
     "metadata": {},
     "output_type": "execute_result"
    }
   ],
   "source": [
    "rfc.score(X_test, y_test)"
   ]
  },
  {
   "cell_type": "code",
   "execution_count": 20,
   "id": "accessory-sheet",
   "metadata": {},
   "outputs": [
    {
     "data": {
      "text/plain": [
       "array([503, 621, 622, ..., 402, 116, 978])"
      ]
     },
     "execution_count": 20,
     "metadata": {},
     "output_type": "execute_result"
    }
   ],
   "source": [
    "np.argsort(rfc.feature_importances_)"
   ]
  },
  {
   "cell_type": "code",
   "execution_count": 21,
   "id": "requested-nickname",
   "metadata": {},
   "outputs": [
    {
     "data": {
      "text/plain": [
       "0.9121621621621622"
      ]
     },
     "execution_count": 21,
     "metadata": {},
     "output_type": "execute_result"
    }
   ],
   "source": [
    "dt = DecisionTreeClassifier(max_depth=2)\n",
    "dt.fit(X_train, y_train)\n",
    "dt.score(X_test, y_test)"
   ]
  },
  {
   "cell_type": "markdown",
   "id": "satellite-exception",
   "metadata": {},
   "source": [
    "### ==================================================================\n",
    "### from sklearn doc\n",
    "https://scikit-learn.org/stable/modules/generated/sklearn.linear_model.LogisticRegression.html"
   ]
  },
  {
   "cell_type": "code",
   "execution_count": null,
   "id": "armed-revision",
   "metadata": {},
   "outputs": [],
   "source": []
  },
  {
   "cell_type": "code",
   "execution_count": null,
   "id": "editorial-engineer",
   "metadata": {},
   "outputs": [],
   "source": []
  },
  {
   "cell_type": "code",
   "execution_count": 8,
   "id": "hearing-manual",
   "metadata": {},
   "outputs": [],
   "source": [
    "X = np.asarray(act_filter_transformed)\n",
    "y = np.asarray(meta_filter['phen_idx'])"
   ]
  },
  {
   "cell_type": "code",
   "execution_count": 14,
   "id": "automatic-transmission",
   "metadata": {},
   "outputs": [
    {
     "data": {
      "text/plain": [
       "(296,)"
      ]
     },
     "execution_count": 14,
     "metadata": {},
     "output_type": "execute_result"
    }
   ],
   "source": [
    "#X.shape\n",
    "y.shape"
   ]
  },
  {
   "cell_type": "code",
   "execution_count": 16,
   "id": "blond-discretion",
   "metadata": {},
   "outputs": [
    {
     "data": {
      "text/plain": [
       "(296,)"
      ]
     },
     "execution_count": 16,
     "metadata": {},
     "output_type": "execute_result"
    }
   ],
   "source": []
  },
  {
   "cell_type": "code",
   "execution_count": null,
   "id": "perceived-miller",
   "metadata": {},
   "outputs": [],
   "source": [
    "clf = LogisticRegression(random_state=5566).fit(X, y)\n",
    "clf.predict(X)\n",
    "clf.predict_proba(X)\n",
    "clf.score(X, y)"
   ]
  },
  {
   "cell_type": "markdown",
   "id": "innocent-finance",
   "metadata": {},
   "source": [
    "https://scikit-learn.org/0.20/auto_examples/model_selection/plot_confusion_matrix.html"
   ]
  },
  {
   "cell_type": "code",
   "execution_count": 50,
   "id": "skilled-institute",
   "metadata": {},
   "outputs": [
    {
     "data": {
      "text/plain": [
       "array([0, 0, 0, 0, 0, 0, 0, 0, 0, 0, 0, 0, 0, 0, 0, 0, 0, 0, 0, 0, 0, 0,\n",
       "       0, 0, 0, 0, 0, 0, 0, 0, 0, 0, 0, 0, 0, 0, 0, 0, 0, 0, 0, 0, 0, 0,\n",
       "       0, 0, 0, 0, 0, 0, 1, 1, 1, 1, 1, 1, 1, 1, 1, 1, 1, 1, 1, 1, 1, 1,\n",
       "       1, 1, 1, 1, 1, 1, 1, 1, 1, 1, 1, 1, 1, 1, 1, 1, 1, 1, 1, 1, 1, 1,\n",
       "       1, 1, 1, 1, 1, 1, 1, 1, 1, 1, 1, 1, 2, 2, 2, 2, 2, 2, 2, 2, 2, 2,\n",
       "       2, 2, 2, 2, 2, 2, 2, 2, 2, 2, 2, 2, 2, 2, 2, 2, 2, 2, 2, 2, 2, 2,\n",
       "       2, 2, 2, 2, 2, 2, 2, 2, 2, 2, 2, 2, 2, 2, 2, 2, 2, 2])"
      ]
     },
     "execution_count": 50,
     "metadata": {},
     "output_type": "execute_result"
    }
   ],
   "source": [
    "iris.target"
   ]
  },
  {
   "cell_type": "code",
   "execution_count": 52,
   "id": "saving-terrorism",
   "metadata": {},
   "outputs": [
    {
     "data": {
      "text/plain": [
       "array(['setosa', 'versicolor', 'virginica'], dtype='<U10')"
      ]
     },
     "execution_count": 52,
     "metadata": {},
     "output_type": "execute_result"
    }
   ],
   "source": [
    "class_names = iris.target_names\n",
    "class_names"
   ]
  },
  {
   "cell_type": "code",
   "execution_count": 55,
   "id": "wound-brooks",
   "metadata": {},
   "outputs": [
    {
     "data": {
      "text/plain": [
       "array([0., 0., 0., 0., 0., 1., 0., 0., 0., 0., 0., 0., 0., 0., 0., 0., 1.,\n",
       "       0., 0., 0., 0., 0., 1., 0., 0., 0., 0., 0., 0., 0., 0., 0., 0., 0.,\n",
       "       0., 0., 0., 1., 0., 0., 0., 0., 0., 0., 0., 0., 1., 1., 1., 1., 0.,\n",
       "       0., 0., 0., 0., 0., 0., 0., 0., 0., 0., 0., 0., 0., 0., 0., 0., 0.,\n",
       "       0., 0., 0., 0., 0., 0., 0., 0., 0., 0., 0., 0., 1., 0., 1., 1., 0.,\n",
       "       1., 0., 0., 0., 1., 0., 1., 0., 0., 1., 1., 1., 0., 1., 0., 0., 1.,\n",
       "       0., 0., 1., 0., 0., 1., 0., 1., 1., 1., 0., 0., 0., 0., 0., 0., 0.,\n",
       "       0., 0., 0., 0., 0., 0., 0., 0., 0., 0., 0., 0., 0., 0., 0., 0., 0.,\n",
       "       0., 0., 0., 0., 0., 0., 0., 0., 0., 0., 0., 0., 0., 0., 0., 0., 0.,\n",
       "       0., 0., 0., 0., 0., 0., 0., 0., 0., 0., 0., 0., 0., 0., 0., 0., 0.,\n",
       "       0., 0., 0., 0., 0., 0., 0., 0., 0., 0., 0., 0., 0., 0., 0., 0., 0.,\n",
       "       0., 0., 0., 0., 0., 0., 0., 0., 0., 0., 0., 0., 0., 0., 0., 0., 0.,\n",
       "       0., 0., 0., 0., 0., 0., 0., 0., 0., 0., 0., 0., 0., 0., 0., 0., 0.,\n",
       "       0., 0., 0., 0., 0., 0., 0., 0., 0., 0., 0., 0., 0., 0., 0., 0., 0.,\n",
       "       0., 0., 0., 0., 0., 0., 0., 0., 0., 0., 0., 0., 0., 0., 0., 0., 0.,\n",
       "       0., 0., 0., 0., 0., 0., 0., 0., 0., 0., 0., 0., 0., 0., 0., 0., 0.,\n",
       "       0., 0., 0., 0., 0., 0., 0., 0., 0., 0., 0., 0., 0., 0., 0., 0., 0.,\n",
       "       0., 0., 0., 0., 0., 0., 0.])"
      ]
     },
     "execution_count": 55,
     "metadata": {},
     "output_type": "execute_result"
    }
   ],
   "source": [
    "class_names = np.asarray(meta_filter['phen_idx'])\n",
    "class_names"
   ]
  },
  {
   "cell_type": "code",
   "execution_count": null,
   "id": "acute-bolivia",
   "metadata": {},
   "outputs": [],
   "source": [
    "names = []\n",
    "for i in meta_filter['phen_idx']:\n",
    "    #print(i)\n",
    "    if i == 1:\n",
    "        names.append('year-round')\n",
    "    else:\n",
    "        names.append('seasonal')\n",
    "    \n",
    "class_names = np.asarray(names)\n",
    "class_names"
   ]
  },
  {
   "cell_type": "code",
   "execution_count": 127,
   "id": "challenging-passion",
   "metadata": {},
   "outputs": [
    {
     "name": "stdout",
     "output_type": "stream",
     "text": [
      "Confusion matrix, without normalization\n",
      "[[63  1]\n",
      " [ 9  1]]\n",
      "Normalized confusion matrix\n",
      "[[0.98 0.02]\n",
      " [0.9  0.1 ]]\n"
     ]
    },
    {
     "data": {
      "image/png": "[encoded data removed]",
      "text/plain": [
       "<Figure size 432x288 with 2 Axes>"
      ]
     },
     "metadata": {
      "needs_background": "light"
     },
     "output_type": "display_data"
    },
    {
     "data": {
      "image/png": "[encoded data removed]",
      "text/plain": [
       "<Figure size 432x288 with 2 Axes>"
      ]
     },
     "metadata": {
      "needs_background": "light"
     },
     "output_type": "display_data"
    }
   ],
   "source": [
    "from sklearn import svm, datasets\n",
    "from sklearn.model_selection import train_test_split\n",
    "from sklearn.metrics import confusion_matrix\n",
    "from sklearn.utils.multiclass import unique_labels\n",
    "\n",
    "# import some data to play with\n",
    "X = np.asarray(act_filter_transformed)\n",
    "y = np.asarray(meta_filter['phen_idx'])\n",
    "\n",
    "names = []\n",
    "for i in meta_filter['phen_idx']:\n",
    "    #print(i)\n",
    "    if i == 1:\n",
    "        names.append('year-round')\n",
    "    else:\n",
    "        names.append('seasonal')\n",
    "\n",
    "class_names = np.asarray(names)\n",
    "\n",
    "\n",
    "\n",
    "# Split the data into a training set and a test set\n",
    "X_train, X_test, y_train, y_test = train_test_split(X, y, random_state=5566)\n",
    "\n",
    "# Run classifier, using a model that is too regularized (C too low) to see\n",
    "# the impact on the results\n",
    "classifier = svm.SVC(kernel='linear', C=0.01)\n",
    "y_pred = classifier.fit(X_train, y_train).predict(X_test)\n",
    "\n",
    "\n",
    "def plot_confusion_matrix(y_true, y_pred, classes,\n",
    "                          normalize=False,\n",
    "                          title=None,\n",
    "                          cmap=plt.cm.Blues):\n",
    "    \"\"\"\n",
    "    This function prints and plots the confusion matrix.\n",
    "    Normalization can be applied by setting `normalize=True`.\n",
    "    \"\"\"\n",
    "    if not title:\n",
    "        if normalize:\n",
    "            title = 'Normalized confusion matrix'\n",
    "        else:\n",
    "            title = 'Confusion matrix, without normalization'\n",
    "\n",
    "    # Compute confusion matrix\n",
    "    cm = confusion_matrix(y_true, y_pred)\n",
    "    # Only use the labels that appear in the data\n",
    "    classes = classes[unique_labels(y_true, y_pred).astype(int)]\n",
    "    if normalize:\n",
    "        cm = cm.astype('float') / cm.sum(axis=1)[:, np.newaxis]\n",
    "        print(\"Normalized confusion matrix\")\n",
    "    else:\n",
    "        print('Confusion matrix, without normalization')\n",
    "\n",
    "    print(cm)\n",
    "\n",
    "    fig, ax = plt.subplots()\n",
    "    im = ax.imshow(cm, interpolation='nearest', cmap=cmap)\n",
    "    ax.figure.colorbar(im, ax=ax)\n",
    "    # We want to show all ticks...\n",
    "    ax.set(xticks=np.arange(cm.shape[1]),\n",
    "           yticks=np.arange(cm.shape[0]),\n",
    "           # ... and label them with the respective list entries\n",
    "           xticklabels=classes, yticklabels=classes,\n",
    "           title=title,\n",
    "           ylabel='True label',\n",
    "           xlabel='Predicted label')\n",
    "\n",
    "    # Rotate the tick labels and set their alignment.\n",
    "    plt.setp(ax.get_xticklabels(), rotation=45, ha=\"right\",\n",
    "             rotation_mode=\"anchor\")\n",
    "\n",
    "    # Loop over data dimensions and create text annotations.\n",
    "    fmt = '.2f' if normalize else 'd'\n",
    "    thresh = cm.max() / 2.\n",
    "    for i in range(cm.shape[0]):\n",
    "        for j in range(cm.shape[1]):\n",
    "            ax.text(j, i, format(cm[i, j], fmt),\n",
    "                    ha=\"center\", va=\"center\",\n",
    "                    color=\"white\" if cm[i, j] > thresh else \"black\")\n",
    "    fig.tight_layout()\n",
    "    return ax\n",
    "\n",
    "\n",
    "np.set_printoptions(precision=2)\n",
    "\n",
    "# Plot non-normalized confusion matrix\n",
    "plot_confusion_matrix(y_test, y_pred, classes=class_names,\n",
    "                      title='Confusion matrix, without normalization')\n",
    "\n",
    "# Plot normalized confusion matrix\n",
    "plot_confusion_matrix(y_test, y_pred, classes=class_names, normalize=True,\n",
    "                      title='Normalized confusion matrix')\n",
    "\n",
    "plt.show()"
   ]
  },
  {
   "cell_type": "code",
   "execution_count": 126,
   "id": "stock-participant",
   "metadata": {},
   "outputs": [
    {
     "ename": "NameError",
     "evalue": "name 'classes' is not defined",
     "output_type": "error",
     "traceback": [
      "\u001b[0;31m---------------------------------------------------------------------------\u001b[0m",
      "\u001b[0;31mNameError\u001b[0m                                 Traceback (most recent call last)",
      "\u001b[0;32m<ipython-input-126-b0aafee9b761>\u001b[0m in \u001b[0;36m<module>\u001b[0;34m\u001b[0m\n\u001b[0;32m----> 1\u001b[0;31m \u001b[0mclasses\u001b[0m\u001b[0;34m[\u001b[0m\u001b[0munique_labels\u001b[0m\u001b[0;34m(\u001b[0m\u001b[0my_test\u001b[0m\u001b[0;34m,\u001b[0m \u001b[0my_pred\u001b[0m\u001b[0;34m)\u001b[0m\u001b[0;34m.\u001b[0m\u001b[0mastype\u001b[0m\u001b[0;34m(\u001b[0m\u001b[0mint\u001b[0m\u001b[0;34m)\u001b[0m\u001b[0;34m]\u001b[0m\u001b[0;34m\u001b[0m\u001b[0;34m\u001b[0m\u001b[0m\n\u001b[0m",
      "\u001b[0;31mNameError\u001b[0m: name 'classes' is not defined"
     ]
    }
   ],
   "source": [
    "classes[unique_labels(y_test, y_pred).astype(int)]"
   ]
  },
  {
   "cell_type": "markdown",
   "id": "controversial-inquiry",
   "metadata": {},
   "source": [
    "### ==================================================================\n",
    "### from CodeX example\n",
    "https://medium.com/codex/machine-learning-logistic-regression-with-python-5ed4ded9d146"
   ]
  },
  {
   "cell_type": "code",
   "execution_count": 22,
   "id": "reverse-individual",
   "metadata": {},
   "outputs": [
    {
     "data": {
      "text/plain": [
       "0.9966216216216216"
      ]
     },
     "execution_count": 22,
     "metadata": {},
     "output_type": "execute_result"
    }
   ],
   "source": [
    "\n",
    "from sklearn.linear_model import LogisticRegression\n",
    "X = np.asarray(act_filter_transformed)\n",
    "y = np.asarray(meta_filter['phen_idx'])\n",
    "#X, y = load_iris(return_X_y=True)\n",
    "clf = LogisticRegression(random_state=0).fit(X, y)\n",
    "clf.predict(X)\n",
    "\n",
    "clf.predict_proba(X)\n",
    "\n",
    "clf.score(X, y)\n"
   ]
  },
  {
   "cell_type": "code",
   "execution_count": 23,
   "id": "distributed-prime",
   "metadata": {},
   "outputs": [],
   "source": [
    "X_var = np.asarray(act_filter_transformed)\n",
    "y_var = np.asarray(meta_filter['phen_idx'])"
   ]
  },
  {
   "cell_type": "code",
   "execution_count": 24,
   "id": "novel-virgin",
   "metadata": {},
   "outputs": [
    {
     "data": {
      "text/plain": [
       "0.0    272\n",
       "1.0     24\n",
       "Name: phen_idx, dtype: int64"
      ]
     },
     "execution_count": 24,
     "metadata": {},
     "output_type": "execute_result"
    }
   ],
   "source": [
    "meta_filter['phen_idx'].value_counts()"
   ]
  },
  {
   "cell_type": "code",
   "execution_count": 25,
   "id": "intensive-application",
   "metadata": {},
   "outputs": [],
   "source": [
    "X_var = StandardScaler().fit(X_var).transform(X_var)"
   ]
  },
  {
   "cell_type": "code",
   "execution_count": 26,
   "id": "radical-virtue",
   "metadata": {},
   "outputs": [],
   "source": [
    "X_train, X_test, y_train, y_test = train_test_split(X_var, y_var, test_size = 0.5, random_state = 5566)"
   ]
  },
  {
   "cell_type": "code",
   "execution_count": 27,
   "id": "elementary-dutch",
   "metadata": {},
   "outputs": [
    {
     "data": {
      "text/plain": [
       "LogisticRegression(C=0.1, solver='liblinear')"
      ]
     },
     "execution_count": 27,
     "metadata": {},
     "output_type": "execute_result"
    }
   ],
   "source": [
    "# Modelling\n",
    "\n",
    "lr = LogisticRegression(C = 0.1, solver = 'liblinear')\n",
    "lr.fit(X_train,y_train)"
   ]
  },
  {
   "cell_type": "code",
   "execution_count": 28,
   "id": "rotary-general",
   "metadata": {},
   "outputs": [
    {
     "ename": "NameError",
     "evalue": "name 'yhat' is not defined",
     "output_type": "error",
     "traceback": [
      "\u001b[0;31m---------------------------------------------------------------------------\u001b[0m",
      "\u001b[0;31mNameError\u001b[0m                                 Traceback (most recent call last)",
      "\u001b[0;32m<ipython-input-28-c28dbaf18f6d>\u001b[0m in \u001b[0;36m<module>\u001b[0;34m\u001b[0m\n\u001b[0;32m----> 1\u001b[0;31m \u001b[0myhat\u001b[0m\u001b[0;34m.\u001b[0m\u001b[0mmean\u001b[0m\u001b[0;34m(\u001b[0m\u001b[0;34m)\u001b[0m\u001b[0;34m\u001b[0m\u001b[0;34m\u001b[0m\u001b[0m\n\u001b[0m",
      "\u001b[0;31mNameError\u001b[0m: name 'yhat' is not defined"
     ]
    }
   ],
   "source": [
    "yhat.mean()"
   ]
  },
  {
   "cell_type": "code",
   "execution_count": 29,
   "id": "handmade-avenue",
   "metadata": {},
   "outputs": [],
   "source": [
    "# Predictions\n",
    "\n",
    "yhat = lr.predict(X_test)\n",
    "yhat_prob = lr.predict_proba(X_test)\n",
    "# Predictions"
   ]
  },
  {
   "cell_type": "code",
   "execution_count": 85,
   "id": "checked-express",
   "metadata": {},
   "outputs": [
    {
     "data": {
      "text/plain": [
       "array([[ 0.01,  0.05, -0.02, ...,  0.02, -0.07, -0.03]])"
      ]
     },
     "execution_count": 85,
     "metadata": {},
     "output_type": "execute_result"
    }
   ],
   "source": [
    "lr.coef_"
   ]
  },
  {
   "cell_type": "code",
   "execution_count": 81,
   "id": "norman-nelson",
   "metadata": {},
   "outputs": [
    {
     "data": {
      "text/plain": [
       "array([0., 1.])"
      ]
     },
     "execution_count": 81,
     "metadata": {},
     "output_type": "execute_result"
    }
   ],
   "source": [
    "lr.classes_"
   ]
  },
  {
   "cell_type": "code",
   "execution_count": 82,
   "id": "flush-leave",
   "metadata": {},
   "outputs": [
    {
     "name": "stdout",
     "output_type": "stream",
     "text": [
      "yhat samples :  [0. 0. 0. 0. 0. 0. 0. 0. 0. 0.]\n",
      "yhat_prob samples :  [[0.95 0.05]\n",
      " [0.9  0.1 ]\n",
      " [0.97 0.03]\n",
      " [0.93 0.07]\n",
      " [0.96 0.04]\n",
      " [0.9  0.1 ]\n",
      " [0.93 0.07]\n",
      " [0.87 0.13]\n",
      " [0.82 0.18]\n",
      " [0.87 0.13]]\n"
     ]
    }
   ],
   "source": [
    "print('yhat samples : ', yhat[:10])\n",
    "print('yhat_prob samples : ', yhat_prob[:10])"
   ]
  },
  {
   "cell_type": "code",
   "execution_count": 30,
   "id": "north-kazakhstan",
   "metadata": {},
   "outputs": [
    {
     "name": "stdout",
     "output_type": "stream",
     "text": [
      "Jaccard Similarity Score of our model is 0.1\n"
     ]
    }
   ],
   "source": [
    "# 1. Jaccard Index\n",
    "# We can define Jaccard as the size of the intersection divided by the size of the union of two label sets. \n",
    "# If the entire set of predicted labels for a sample strictly match the true set of labels, \n",
    "# then the subset accuracy is 1.0; otherwise, it is 0.0\n",
    "\n",
    "print('Jaccard Similarity Score of our model is {}'.format(jss(y_test, yhat).round(2)))"
   ]
  },
  {
   "cell_type": "code",
   "execution_count": 31,
   "id": "obvious-cleaner",
   "metadata": {},
   "outputs": [
    {
     "name": "stdout",
     "output_type": "stream",
     "text": [
      "Precision Score of our model is 0.12\n"
     ]
    }
   ],
   "source": [
    "# 2. Precision Score\n",
    "\n",
    "print('Precision Score of our model is {}'.format(precision_score(y_test, yhat).round(2)))"
   ]
  },
  {
   "cell_type": "code",
   "execution_count": 32,
   "id": "cellular-therapist",
   "metadata": {},
   "outputs": [
    {
     "name": "stdout",
     "output_type": "stream",
     "text": [
      "Log Loss of our model is 10.04\n"
     ]
    }
   ],
   "source": [
    "# 3. Log loss\n",
    "# In logistic regression, the output can be the probability of customer churn is yes (or equals to 1). \n",
    "# This probability is a value between 0 and 1. Log loss( Logarithmic loss) measures the performance of \n",
    "# a classifier where the predicted output is a probability value between 0 and 1. \n",
    "# Remember that, lower the log loss value higher the accuracy of our model.\n",
    "\n",
    "print('Log Loss of our model is {}'.format(log_loss(y_test, yhat).round(2)))"
   ]
  },
  {
   "cell_type": "code",
   "execution_count": 33,
   "id": "automatic-market",
   "metadata": {},
   "outputs": [
    {
     "name": "stdout",
     "output_type": "stream",
     "text": [
      "              precision    recall  f1-score   support\n",
      "\n",
      "         0.0       0.93      0.74      0.82       136\n",
      "         1.0       0.12      0.42      0.19        12\n",
      "\n",
      "    accuracy                           0.71       148\n",
      "   macro avg       0.53      0.58      0.51       148\n",
      "weighted avg       0.87      0.71      0.77       148\n",
      "\n"
     ]
    }
   ],
   "source": [
    "# 4. Classificaton report\n",
    "\n",
    "print(classification_report(y_test, yhat))"
   ]
  },
  {
   "cell_type": "markdown",
   "id": "legendary-trick",
   "metadata": {},
   "source": [
    "Based on the count of each section, we can calculate the precision and recall of each label:\n",
    "<br/> **Precision** is a measure of the accuracy provided that a class label has been predicted. It is defined by: precision = TP / (TP + FP)\n",
    "<br/> **Recall** is true positive rate. It is defined as: Recall = TP / (TP + FN)\n",
    "<br/>So, we can calculate the precision and recall of each class.\n",
    "<br/> **F1 score**: Now we are in the position to calculate the F1 scores for each label based on the precision and recall of that label. The F1 score is the harmonic average of the precision and recall, where an F1 score reaches its best value at 1 (perfect precision and recall) and worst at 0. It is a good way to show that a classifier has a good value for both recall and precision.\n",
    "<br/>And finally, we can tell the average accuracy for this classifier is the average of the F1-score for both labels, which is 0.74 in our case."
   ]
  },
  {
   "cell_type": "code",
   "execution_count": 34,
   "id": "documented-element",
   "metadata": {},
   "outputs": [
    {
     "data": {
      "image/png": "[encoded data removed]",
      "text/plain": [
       "<Figure size 432x288 with 2 Axes>"
      ]
     },
     "metadata": {
      "needs_background": "light"
     },
     "output_type": "display_data"
    }
   ],
   "source": [
    "# 5. Confusion matrix\n",
    "\n",
    "def plot_confusion_matrix(cm, classes,normalize = False, title = 'Confusion matrix', cmap = plt.cm.Blues):\n",
    "    \n",
    "    if normalize:\n",
    "        cm = cm.astype(float) / cm.sum(axis=1)[:, np.newaxis]\n",
    "    \n",
    "    # Interpolation: Interpolation is the process of using the line of best fit to estimate the value of \n",
    "    # one variable from the value of another, provided that the value you are using is within the range of your data.\n",
    "    plt.imshow(cm, interpolation = 'nearest', cmap = cmap)\n",
    "    plt.title(title, fontsize = 22)\n",
    "    plt.colorbar()\n",
    "    tick_marks = np.arange(len(classes))\n",
    "    plt.xticks(tick_marks, classes, rotation = 45, fontsize = 13)\n",
    "    plt.yticks(tick_marks, classes, fontsize = 13)\n",
    "\n",
    "    fmt = '.2f' if normalize else 'd'\n",
    "    thresh = cm.max() / 2.\n",
    "    for i, j in itertools.product(range(cm.shape[0]), range(cm.shape[1])):\n",
    "        plt.text(j, i, format(cm[i, j], fmt),\n",
    "                 horizontalalignment = 'center',\n",
    "                 fontsize = 15,\n",
    "                 color = 'white' if cm[i, j] > thresh else 'black')\n",
    "\n",
    "    plt.tight_layout()\n",
    "    plt.ylabel('True label', fontsize = 16)\n",
    "    plt.xlabel('Predicted label', fontsize = 16)\n",
    "\n",
    "# Compute confusion matrix\n",
    "\n",
    "cnf_matrix = confusion_matrix(y_test, yhat, labels = [1,0])\n",
    "np.set_printoptions(precision = 2)\n",
    "\n",
    "\n",
    "# Plot non-normalized confusion matrix\n",
    "\n",
    "plt.figure()\n",
    "plot_confusion_matrix(cnf_matrix, classes = ['year-round=1','seasonal=0'], normalize = False,  title = 'Confusion matrix')\n",
    "plt.savefig('confusion_matrix.png')"
   ]
  },
  {
   "cell_type": "markdown",
   "id": "imposed-forest",
   "metadata": {},
   "source": [
    "### ====================================================================\n",
    "https://scikit-learn.org/0.20/auto_examples/model_selection/plot_confusion_matrix.html"
   ]
  },
  {
   "cell_type": "code",
   "execution_count": 118,
   "id": "existing-stupid",
   "metadata": {},
   "outputs": [
    {
     "name": "stdout",
     "output_type": "stream",
     "text": [
      "Confusion matrix, without normalization\n",
      "[[13  0  0]\n",
      " [ 0 10  6]\n",
      " [ 0  0  9]]\n",
      "Normalized confusion matrix\n",
      "[[1.   0.   0.  ]\n",
      " [0.   0.62 0.38]\n",
      " [0.   0.   1.  ]]\n"
     ]
    },
    {
     "data": {
      "image/png": "[encoded data removed]",
      "text/plain": [
       "<Figure size 432x288 with 2 Axes>"
      ]
     },
     "metadata": {
      "needs_background": "light"
     },
     "output_type": "display_data"
    },
    {
     "data": {
      "image/png": "[encoded data removed]",
      "text/plain": [
       "<Figure size 432x288 with 2 Axes>"
      ]
     },
     "metadata": {
      "needs_background": "light"
     },
     "output_type": "display_data"
    }
   ],
   "source": [
    "import numpy as np\n",
    "import matplotlib.pyplot as plt\n",
    "\n",
    "from sklearn import svm, datasets\n",
    "from sklearn.model_selection import train_test_split\n",
    "from sklearn.metrics import confusion_matrix\n",
    "from sklearn.utils.multiclass import unique_labels\n",
    "\n",
    "# import some data to play with\n",
    "iris = datasets.load_iris()\n",
    "X = iris.data\n",
    "y = iris.target\n",
    "class_names = iris.target_names\n",
    "\n",
    "# Split the data into a training set and a test set\n",
    "X_train, X_test, y_train, y_test = train_test_split(X, y, random_state=0)\n",
    "\n",
    "# Run classifier, using a model that is too regularized (C too low) to see\n",
    "# the impact on the results\n",
    "classifier = svm.SVC(kernel='linear', C=0.01)\n",
    "y_pred = classifier.fit(X_train, y_train).predict(X_test)\n",
    "\n",
    "\n",
    "def plot_confusion_matrix(y_true, y_pred, classes,\n",
    "                          normalize=False,\n",
    "                          title=None,\n",
    "                          cmap=plt.cm.Blues):\n",
    "    \"\"\"\n",
    "    This function prints and plots the confusion matrix.\n",
    "    Normalization can be applied by setting `normalize=True`.\n",
    "    \"\"\"\n",
    "    if not title:\n",
    "        if normalize:\n",
    "            title = 'Normalized confusion matrix'\n",
    "        else:\n",
    "            title = 'Confusion matrix, without normalization'\n",
    "\n",
    "    # Compute confusion matrix\n",
    "    cm = confusion_matrix(y_true, y_pred)\n",
    "    # Only use the labels that appear in the data\n",
    "    classes = classes[unique_labels(y_true, y_pred)]\n",
    "    if normalize:\n",
    "        cm = cm.astype('float') / cm.sum(axis=1)[:, np.newaxis]\n",
    "        print(\"Normalized confusion matrix\")\n",
    "    else:\n",
    "        print('Confusion matrix, without normalization')\n",
    "\n",
    "    print(cm)\n",
    "\n",
    "    fig, ax = plt.subplots()\n",
    "    im = ax.imshow(cm, interpolation='nearest', cmap=cmap)\n",
    "    ax.figure.colorbar(im, ax=ax)\n",
    "    # We want to show all ticks...\n",
    "    ax.set(xticks=np.arange(cm.shape[1]),\n",
    "           yticks=np.arange(cm.shape[0]),\n",
    "           # ... and label them with the respective list entries\n",
    "           xticklabels=classes, yticklabels=classes,\n",
    "           title=title,\n",
    "           ylabel='True label',\n",
    "           xlabel='Predicted label')\n",
    "\n",
    "    # Rotate the tick labels and set their alignment.\n",
    "    plt.setp(ax.get_xticklabels(), rotation=45, ha=\"right\",\n",
    "             rotation_mode=\"anchor\")\n",
    "\n",
    "    # Loop over data dimensions and create text annotations.\n",
    "    fmt = '.2f' if normalize else 'd'\n",
    "    thresh = cm.max() / 2.\n",
    "    for i in range(cm.shape[0]):\n",
    "        for j in range(cm.shape[1]):\n",
    "            ax.text(j, i, format(cm[i, j], fmt),\n",
    "                    ha=\"center\", va=\"center\",\n",
    "                    color=\"white\" if cm[i, j] > thresh else \"black\")\n",
    "    fig.tight_layout()\n",
    "    return ax\n",
    "\n",
    "\n",
    "np.set_printoptions(precision=2)\n",
    "\n",
    "# Plot non-normalized confusion matrix\n",
    "plot_confusion_matrix(y_test, y_pred, classes=class_names,\n",
    "                      title='Confusion matrix, without normalization')\n",
    "\n",
    "# Plot normalized confusion matrix\n",
    "plot_confusion_matrix(y_test, y_pred, classes=class_names, normalize=True,\n",
    "                      title='Normalized confusion matrix')\n",
    "\n",
    "plt.show()"
   ]
  },
  {
   "cell_type": "code",
   "execution_count": 120,
   "id": "dimensional-plenty",
   "metadata": {},
   "outputs": [
    {
     "name": "stdout",
     "output_type": "stream",
     "text": [
      "['setosa' 'versicolor' 'virginica']\n"
     ]
    }
   ],
   "source": [
    "class_names = iris.target_names\n",
    "print(class_names)"
   ]
  },
  {
   "cell_type": "code",
   "execution_count": null,
   "id": "confused-conditions",
   "metadata": {},
   "outputs": [],
   "source": []
  }
 ],
 "metadata": {
  "kernelspec": {
   "display_name": "Python 3",
   "language": "python",
   "name": "python3"
  },
  "language_info": {
   "codemirror_mode": {
    "name": "ipython",
    "version": 3
   },
   "file_extension": ".py",
   "mimetype": "text/x-python",
   "name": "python",
   "nbconvert_exporter": "python",
   "pygments_lexer": "ipython3",
   "version": "3.8.5"
  }
 },
 "nbformat": 4,
 "nbformat_minor": 5
}
